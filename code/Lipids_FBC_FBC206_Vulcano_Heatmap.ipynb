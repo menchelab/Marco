{
 "cells": [
  {
   "cell_type": "markdown",
   "metadata": {},
   "source": [
    "# Make heatmap for Lipidds"
   ]
  },
  {
   "cell_type": "markdown",
   "metadata": {},
   "source": [
    "## Include libraries"
   ]
  },
  {
   "cell_type": "code",
   "execution_count": 1,
   "metadata": {},
   "outputs": [
    {
     "name": "stderr",
     "output_type": "stream",
     "text": [
      "/Library/Frameworks/Python.framework/Versions/3.7/lib/python3.7/site-packages/statsmodels/tools/_testing.py:19: FutureWarning: pandas.util.testing is deprecated. Use the functions in the public API at pandas.testing instead.\n",
      "  import pandas.util.testing as tm\n"
     ]
    }
   ],
   "source": [
    "import pandas as pd\n",
    "import numpy as np\n",
    "from scipy.stats import ttest_ind\n",
    "from statsmodels.stats.multitest import multipletests\n",
    "\n",
    "\n",
    "from matplotlib import cm\n",
    "from matplotlib import pylab as plt\n",
    "from matplotlib.lines import Line2D\n",
    "import matplotlib.colors as colors\n",
    "import matplotlib.colors as mcolors\n",
    "import seaborn as sns"
   ]
  },
  {
   "cell_type": "markdown",
   "metadata": {},
   "source": [
    "## Functions and definitions"
   ]
  },
  {
   "cell_type": "code",
   "execution_count": 2,
   "metadata": {},
   "outputs": [],
   "source": [
    "def make_colormap(seq):\n",
    "    \"\"\"Return a LinearSegmentedColormap\n",
    "    seq: a sequence of floats and RGB-tuples. The floats should be increasing\n",
    "    and in the interval (0,1).\n",
    "    \"\"\"\n",
    "    seq = [(None,) * 3, 0.0] + list(seq) + [1.0, (None,) * 3]\n",
    "    cdict = {'red': [], 'green': [], 'blue': []}\n",
    "    for i, item in enumerate(seq):\n",
    "        if isinstance(item, float):\n",
    "            r1, g1, b1 = seq[i - 1]\n",
    "            r2, g2, b2 = seq[i + 1]\n",
    "            cdict['red'].append([item, r1, r2])\n",
    "            cdict['green'].append([item, g1, g2])\n",
    "            cdict['blue'].append([item, b1, b2])\n",
    "    return mcolors.LinearSegmentedColormap('CustomMap', cdict)\n",
    "\n",
    "#Colormap suggested by Julia\n",
    "c = mcolors.ColorConverter().to_rgb\n",
    "Julia_cmap = make_colormap(\n",
    "    [c('#f6e1d1'), c('#941852')])"
   ]
  },
  {
   "cell_type": "code",
   "execution_count": 3,
   "metadata": {},
   "outputs": [],
   "source": [
    "#define classes of lipids e.g. PC = Phosphatidylcholines\n",
    "types_of_Lipids = ['CE','Cer','DAG','LPC','LPE','PC','PE','PI','PS','SM','TAG']\n",
    "\n",
    "#colormap (20 unique colors)\n",
    "cmap = cm.get_cmap('tab20')\n",
    "\n",
    "#assign for each class of lipid a unique color\n",
    "lipid_color = {}\n",
    "for i,l in enumerate(types_of_Lipids):\n",
    "    lipid_color[l] = cmap(i)\n",
    "    \n"
   ]
  },
  {
   "cell_type": "markdown",
   "metadata": {},
   "source": [
    "### 1. Read file"
   ]
  },
  {
   "cell_type": "code",
   "execution_count": 8,
   "metadata": {},
   "outputs": [
    {
     "name": "stdout",
     "output_type": "stream",
     "text": [
      "Number of samples: 8\n",
      "Number of lipids per sample: 284\n"
     ]
    }
   ],
   "source": [
    "#Considered outlier\n",
    "outlier = ['1 FBC','9 FBC 206']\n",
    "\n",
    "#read file\n",
    "fp = open('../data/Normalized_lipid_counts_0200522.csv')\n",
    "lipids = fp.readline().strip().split(',')[6:]\n",
    "\n",
    "#read all rows\n",
    "sample_results = {}\n",
    "for line in fp:\n",
    "    tmp = line.strip().split(',')\n",
    "    \n",
    "    \n",
    "    \n",
    "    lipid_values = []\n",
    "    for val in tmp[6:]:\n",
    "        if val == '#VALUE!':\n",
    "            lipid_values.append(0)\n",
    "        else:\n",
    "            lipid_values.append(float(val))\n",
    "    \n",
    "    if tmp[2] not in outlier:\n",
    "        sample_results[tmp[2]] = lipid_values\n",
    "\n",
    "print('Number of samples: %d' %len(sample_results))\n",
    "print('Number of lipids per sample: %d' %len(sample_results['2 FBC']))"
   ]
  },
  {
   "cell_type": "markdown",
   "metadata": {},
   "source": [
    "### 2. Make Clustermap for all lipids"
   ]
  },
  {
   "cell_type": "code",
   "execution_count": 10,
   "metadata": {},
   "outputs": [
    {
     "name": "stdout",
     "output_type": "stream",
     "text": [
      "Invalid lipids: 59\n",
      "Final number of valid lipids: 225\n"
     ]
    }
   ],
   "source": [
    "\n",
    "#make a data vector that can be later used to plot a heatmap\n",
    "data = []\n",
    "sample_labels = []\n",
    "for key in sample_results:\n",
    "    data.append(sample_results[key])\n",
    "    sample_labels.append(key)\n",
    "\n",
    "\n",
    "#Transpose data so that samples = columns, lipids = rows\n",
    "transpose = np.array(data).T.tolist()\n",
    "\n",
    "\n",
    "#Go through all rows, if a lipid has no entry (measurement) for one of the sample; remove it\n",
    "#Add a row color (corresponding to the lipid class)\n",
    "final_rows = []\n",
    "row_cols = []\n",
    "for row,l in zip(transpose,lipids):\n",
    "    if row.count(0) != len(sample_results.keys()):\n",
    "        \n",
    "        #extract lipid color\n",
    "        lipid_group = l.split(' ')[0]\n",
    "        #add row color\n",
    "        row_cols.append(lipid_color[lipid_group])\n",
    "        #final valid lipid\n",
    "        final_rows.append(row)\n",
    "\n",
    "print(\"Invalid lipids: %d\" %(len(transpose) - len(final_rows)))\n",
    "print('Final number of valid lipids: %d' %len(final_rows))\n",
    "\n",
    "# Make cluster map and save\n",
    "##\n",
    "sns.clustermap(final_rows,z_score=0,method='median',\n",
    "               col_colors=['#3AB9D1','#3AB9D1','#3AB9D1','#3AB9D1','#F8B301','#F8B301','#F8B301','#F8B301'],\n",
    "               row_colors=row_cols,xticklabels=sample_labels,yticklabels=[],\n",
    "               cmap=Julia_cmap)\n",
    "plt.ylabel('Z-Score')\n",
    "plt.savefig('../results/Lipidomics_Heatmap/All_Lipids.pdf')\n",
    "plt.close()"
   ]
  },
  {
   "cell_type": "markdown",
   "metadata": {},
   "source": [
    "### 3. Make vulcano plot for all lipids (between FBC and FBC206)"
   ]
  },
  {
   "cell_type": "code",
   "execution_count": 53,
   "metadata": {},
   "outputs": [
    {
     "name": "stderr",
     "output_type": "stream",
     "text": [
      "/Library/Frameworks/Python.framework/Versions/3.7/lib/python3.7/site-packages/ipykernel_launcher.py:17: RuntimeWarning: divide by zero encountered in double_scalars\n"
     ]
    }
   ],
   "source": [
    "# Make volcano plot showing FC and PValue of FBC206 vs. FBC\n",
    "# final_rows[0-3] are FBC while [3-5] are FBC206\n",
    "##\n",
    "\n",
    "data_vulcano = []\n",
    "log2FC = []\n",
    "significance = []\n",
    "for row in transpose:\n",
    "    if row.count(0) != len(sample_results.keys()):\n",
    "        FBC_Values = row[0:4]\n",
    "        FBC206_Values = row[4:8]\n",
    "\n",
    "\n",
    "        #calculate the statistics (see before)\n",
    "        significance.append(ttest_ind(FBC206_Values,FBC_Values)[1])\n",
    "        log2FC.append(np.mean(FBC206_Values)/np.mean(FBC_Values))\n",
    "  \n",
    "\n",
    "# correct pValues according to benjamini hochberg (FDR)\n",
    "pValues_Corrected =  multipletests(significance,alpha=0.05,method='fdr_bh')[1]\n",
    "pValues_Corrected = [-np.log10(p) for p in pValues_Corrected]\n",
    "\n",
    "#transform the foldchanges to log2\n",
    "foldchanges = [np.log2(f) for f in log2FC]\n",
    "\n",
    "\n",
    "\n",
    "####\n",
    "# START MAKING PLOT FBC vs. FBC206\n",
    "# Scatter plot showing for each individual lipid the foldchange (x-axis) and pvalue (y-axis)\n",
    "####\n",
    "\n",
    "# Make result plot for differences upon ACM treatment (for wildtype)\n",
    "plt.title('FBC / FBC206')\n",
    "plt.scatter(foldchanges,pValues_Corrected,c=row_cols, alpha = 0.4)\n",
    "plt.axhline(-np.log10(0.05), color= 'grey', ls='--')\n",
    "plt.xlabel('log2[Fold Change FBC206/FBC]')\n",
    "plt.ylabel('-log[PValue]')\n",
    "\n",
    "# Make a legend showing the colors to lipid classes\n",
    "legend_elements = []\n",
    "for key in lipid_color:\n",
    "    legend_elements.append(Line2D([0], [0], marker='o', color='w', label=key,\n",
    "                      markerfacecolor=lipid_color[key], markersize=10))\n",
    "\n",
    "# Make actual plot\n",
    "plt.legend(handles=legend_elements, loc='upper right',prop={'size': 5}, frameon=False)\n",
    "plt.savefig('../results/Lipidomics_Heatmap/Vulcano_AllLipids.pdf')\n",
    "plt.close()"
   ]
  },
  {
   "cell_type": "markdown",
   "metadata": {},
   "source": [
    "### 4. Group lipids into lipid groups"
   ]
  },
  {
   "cell_type": "code",
   "execution_count": 20,
   "metadata": {},
   "outputs": [],
   "source": [
    "# Create empty dictionary that contains final results per lipid group\n",
    "##\n",
    "final_rows = []\n",
    "lipid_group_results = {}\n",
    "for l in types_of_Lipids:\n",
    "    lipid_group_results[l] = []\n",
    "\n",
    "# Go through all values in original vector, and assign the values to the correct lipid groups\n",
    "##\n",
    "for row,l in zip(transpose,lipids):\n",
    "    if row.count(0) != len(sample_results.keys()):\n",
    "        lipid_group = l.split(' ')[0]\n",
    "        lipid_group_results[lipid_group].append(row)\n",
    "\n",
    "\n",
    "# For each lipid group calculate the mean of all associated lipids within the group\n",
    "# Also add row color depending on the the lipid class\n",
    "##\n",
    "final_rows = []\n",
    "row_cols = []\n",
    "for group in lipid_group_results:\n",
    "    \n",
    "    #add row color (=lipid class)\n",
    "    row_cols.append(lipid_color[group])\n",
    "\n",
    "    #add lipid group (=class) mean\n",
    "    vals = np.mean(lipid_group_results[group], axis=0)\n",
    "    \n",
    "    #add the calculated mean value to final rows\n",
    "    final_rows.append(vals)\n",
    "\n",
    "# Make a clustermap\n",
    "##\n",
    "g = sns.clustermap(final_rows,z_score=0,method='complete', col_colors=['#3AB9D1','#3AB9D1','#3AB9D1','#3AB9D1','#F8B301','#F8B301','#F8B301','#F8B301'],\n",
    "               row_colors=row_cols,xticklabels=sample_labels,yticklabels=[],\n",
    "                  cmap=Julia_cmap)\n",
    "\n",
    "plt.ylabel('Z-Score')\n",
    "plt.savefig('../results/Lipidomics_Heatmap/Lipid_groups.pdf')\n",
    "plt.close()\n",
    "\n",
    "\n",
    "\n",
    "# Make an additional legend showing the colors to lipid classes\n",
    "fig = plt.figure()\n",
    "legend_elements = []\n",
    "for key in lipid_color:\n",
    "    legend_elements.append(Line2D([0], [0], marker='o', color='w', label=key,\n",
    "                      markerfacecolor=lipid_color[key], markersize=10))\n",
    "\n",
    "# Make actual plot\n",
    "plt.legend(handles=legend_elements, loc='upper right',prop={'size': 5}, frameon=False)\n",
    "plt.savefig('../results/Lipidomics_Heatmap/Legend.pdf')\n",
    "plt.close()"
   ]
  },
  {
   "cell_type": "code",
   "execution_count": 58,
   "metadata": {},
   "outputs": [],
   "source": [
    "# Make volcano plot showing FC and PValue of FBC206 vs. FBC\n",
    "# final_rows[0-3] are FBC while [3-5] are FBC206\n",
    "##\n",
    "\n",
    "data_vulcano = []\n",
    "\n",
    "log2FC = []\n",
    "significance = []\n",
    "colors = []\n",
    "for group in lipid_group_results:\n",
    "    colors.append(lipid_color[group])\n",
    "    #final_rows.append((np.mean(lipid_group_results[group], axis=0)))\n",
    "\n",
    "    \n",
    "    vals = np.mean(lipid_group_results[group], axis=0)\n",
    "    \n",
    "    FBC_Values = vals[0:4]\n",
    "    FBC206_Values = vals[4:8]\n",
    "\n",
    "\n",
    "    #calculate the statistics (see before)\n",
    "    significance.append(ttest_ind(FBC206_Values,FBC_Values)[1])\n",
    "    log2FC.append(np.mean(FBC206_Values)/np.mean(FBC_Values))\n",
    "    \n",
    "    \n",
    "# correct pValues according to benjamini hochberg (FDR)\n",
    "pValues_Corrected =  multipletests(significance,alpha=0.05,method='fdr_bh')[1]\n",
    "pValues_Corrected = [-np.log10(p) for p in pValues_Corrected]\n",
    "\n",
    "#transform the foldchanges to log2\n",
    "foldchanges = [np.log2(f) for f in log2FC]\n",
    "\n",
    "\n",
    "\n",
    "\n",
    "####\n",
    "# START MAKING PLOT FBC vs. FBC206\n",
    "# Scatter plot showing for each individual lipid the foldchange (x-axis) and pvalue (y-axis)\n",
    "####\n",
    "\n",
    "# Make result plot for differences upon ACM treatment (for wildtype)\n",
    "plt.title('FBC / FBC206')\n",
    "plt.scatter(foldchanges,pValues_Corrected,c=colors, alpha = 0.4)\n",
    "plt.axhline(-np.log10(0.05), color= 'grey', ls='--')\n",
    "plt.xlabel('log2[Fold Change FBC206/FBC]')\n",
    "plt.ylabel('-log[PValue]')\n",
    "\n",
    "# Make a legend showing the colors to lipid classes\n",
    "legend_elements = []\n",
    "for key in lipid_color:\n",
    "    legend_elements.append(Line2D([0], [0], marker='o', color='w', label=key,\n",
    "                      markerfacecolor=lipid_color[key], markersize=10))\n",
    "\n",
    "# Make actual plot\n",
    "plt.legend(handles=legend_elements, loc='upper right',prop={'size': 5}, frameon=False)\n",
    "plt.savefig('../results/Lipidomics_Heatmap/Vulcano_Lipidgroups.pdf')\n",
    "plt.close()"
   ]
  },
  {
   "cell_type": "code",
   "execution_count": null,
   "metadata": {},
   "outputs": [],
   "source": []
  }
 ],
 "metadata": {
  "kernelspec": {
   "display_name": "Python 3",
   "language": "python",
   "name": "python3"
  },
  "language_info": {
   "codemirror_mode": {
    "name": "ipython",
    "version": 3
   },
   "file_extension": ".py",
   "mimetype": "text/x-python",
   "name": "python",
   "nbconvert_exporter": "python",
   "pygments_lexer": "ipython3",
   "version": "3.7.2"
  }
 },
 "nbformat": 4,
 "nbformat_minor": 4
}
